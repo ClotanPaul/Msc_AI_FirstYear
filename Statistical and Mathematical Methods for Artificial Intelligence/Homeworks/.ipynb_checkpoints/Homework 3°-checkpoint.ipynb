{
 "cells": [
  {
   "cell_type": "markdown",
   "metadata": {},
   "source": [
    "**OPTIMIZATION VIA GRADIENT DESCENT**"
   ]
  },
  {
   "cell_type": "code",
   "execution_count": 1,
   "metadata": {},
   "outputs": [],
   "source": [
    "#Imports and libraries\n",
    "import pandas as pd\n",
    "import numpy as np\n",
    "import scipy\n",
    "import matplotlib.pyplot as plt\n"
   ]
  },
  {
   "cell_type": "code",
   "execution_count": 2,
   "metadata": {},
   "outputs": [],
   "source": [
    "#Implement GD Method without backtracking\n",
    "\n",
    "def f(x):\n",
    "    x1 = x[0]\n",
    "    x2 = x[1]\n",
    "    return (x1-3)**2 + (x2-1)**2\n",
    "\n",
    "def grad_f(x):\n",
    "    x1 = x[0]\n",
    "    x2 = x[1]\n",
    "    \n",
    "    grad_x1 = 2 * (x1 - 3) \n",
    "    grad_x2 = 2 * (x2 - 1)\n",
    "    \n",
    "    return np.array([grad_x1, grad_x2])\n",
    "\n",
    "tolx = 1e-5\n",
    "tolf = 1e-5\n",
    "k_max = 1000\n",
    "x0 = np.array([0,1])\n",
    "\n",
    "def GD(f, grad_f, x0, tolf, tolx, k_max, alpha):\n",
    "    x_k = np.array(x0, dtype=float)  # Ensure x0 is a NumPy array for vector operations\n",
    "    k = 0\n",
    "    prev_x = np.copy(x_k)\n",
    "    \n",
    "    # Lists for tracking intermediate values\n",
    "    x = [x_k]\n",
    "    f_val = [f(x_k)]\n",
    "    grads = [grad_f(x_k)]\n",
    "    err = [np.linalg.norm(grad_f(x_k), 2)]\n",
    "    \n",
    "    while k < k_max:\n",
    "        grad_func = grad_f(x_k)\n",
    "        prev_x = np.copy(x_k)\n",
    "        x_k = x_k - alpha * grad_func\n",
    "        \n",
    "        # Store intermediate values\n",
    "        x.append(x_k)\n",
    "        f_val.append(f(x_k))\n",
    "        grads.append(grad_func)\n",
    "        err.append(np.linalg.norm(grad_func, 2))\n",
    "        \n",
    "        # Check stopping conditions based on tolerance\n",
    "        if np.linalg.norm(grad_func, 2) < tolf * np.linalg.norm(x0, 2):\n",
    "            break\n",
    "        if np.linalg.norm(x_k - prev_x, 2) < tolx * np.linalg.norm(x0, 2):\n",
    "            break\n",
    "        \n",
    "        k += 1\n",
    "    if k == k_max:\n",
    "        print(\"Max iterations reached\")\n",
    "    \n",
    "    return x, k, f_val, grads, err"
   ]
  },
  {
   "cell_type": "code",
   "execution_count": 3,
   "metadata": {},
   "outputs": [],
   "source": [
    "#Implementing the backtracking algorithm\n",
    "\n",
    "def backtracking(f, grad_f, x):\n",
    "    \"\"\"\n",
    "    This function is a simple implementation of the backtracking algorithm for\n",
    "    the GD (Gradient Descent) method.\n",
    "    \n",
    "    f: function. The function that we want to optimize.\n",
    "    grad_f: function. The gradient of f(x).\n",
    "    x: ndarray. The actual iterate x_k.\n",
    "    \"\"\"\n",
    "    alpha = 1\n",
    "    c = 0.8\n",
    "    tau = 0.25\n",
    "    \n",
    "    while f(x - alpha * grad_f(x)) > f(x) - c * alpha * np.linalg.norm(grad_f(x), 2) ** 2:\n",
    "        alpha = tau * alpha\n",
    "        \n",
    "        if alpha < 1e-3:\n",
    "            break\n",
    "    return alpha"
   ]
  },
  {
   "cell_type": "code",
   "execution_count": 4,
   "metadata": {},
   "outputs": [],
   "source": [
    "#Implement GD Method with backtracking\n",
    "tolx = 1e-5\n",
    "tolf = 1e-5\n",
    "k_max = 10000\n",
    "x0 = np.array([0,1])\n",
    "\n",
    "def GDB(f, grad_f, x0, tolf, tolx, k_max):\n",
    "    x_k = np.array(x0, dtype=float)  # Ensure x0 is a NumPy array for vector operations\n",
    "    k = 0\n",
    "    prev_x = np.copy(x_k)\n",
    "    \n",
    "    # Lists for tracking intermediate values\n",
    "    x = [x_k]\n",
    "    f_val = [f(x_k)]\n",
    "    grads = [grad_f(x_k)]\n",
    "    err = [np.linalg.norm(grad_f(x_k), 2)]\n",
    "    \n",
    "    while k < k_max:\n",
    "        alpha = backtracking(f, grad_f, x_k)\n",
    "        grad_func = grad_f(x_k)\n",
    "        prev_x = np.copy(x_k)\n",
    "        x_k = x_k - alpha * grad_func\n",
    "        \n",
    "        # Store intermediate values\n",
    "        x.append(x_k)\n",
    "        f_val.append(f(x_k))\n",
    "        grads.append(grad_func)\n",
    "        err.append(np.linalg.norm(grad_func, 2))\n",
    "        \n",
    "        # Check stopping conditions based on tolerance\n",
    "        if np.linalg.norm(grad_func, 2) < tolf * np.linalg.norm(x0, 2):\n",
    "            break\n",
    "        if np.linalg.norm(x_k - prev_x, 2) < tolx * np.linalg.norm(x0, 2):\n",
    "            break\n",
    "        \n",
    "        k += 1\n",
    "    if k == k_max:\n",
    "        print(\"Max iterations reached\")\n",
    "    \n",
    "    return x, k, f_val, grads, err"
   ]
  },
  {
   "cell_type": "markdown",
   "metadata": {},
   "source": [
    "**Results for: (x1, x2) = (x1 − 3)^2 + (x2 − 1)^2**"
   ]
  },
  {
   "cell_type": "code",
   "execution_count": 5,
   "metadata": {},
   "outputs": [
    {
     "name": "stdout",
     "output_type": "stream",
     "text": [
      "Number of iterations: 50 with the true optimum at: [2.99996575 1.        ]\n",
      "Number of iterations: 431 with the true optimum at: [2.99951383 1.        ]\n",
      "Number of iterations: 3196 with the true optimum at: [2.99501733 1.        ]\n",
      "Number of iterations with backtracking: 79 with the true optimum at: [2.99993117 1.        ]\n"
     ]
    },
    {
     "data": {
      "text/plain": [
       "[<matplotlib.lines.Line2D at 0x140ddb8d4f0>]"
      ]
     },
     "execution_count": 5,
     "metadata": {},
     "output_type": "execute_result"
    },
    {
     "data": {
      "image/png": "[encoded data removed]",
      "text/plain": [
       "<Figure size 640x480 with 1 Axes>"
      ]
     },
     "metadata": {},
     "output_type": "display_data"
    }
   ],
   "source": [
    "for alpha in [0.1, 0.01, 0.001]:\n",
    "    x, k, f_val, grads, err = GD(f, grad_f, x0, tolf, tolx, k_max, alpha)\n",
    "    print(f\"Number of iterations: {k} with the true optimum at: {x[-1]}\")\n",
    "\n",
    "#Plotting the error values\n",
    "plt.figure(0)\n",
    "plt.plot(err);\n",
    "plt.xlabel(\"K iterations\")\n",
    "plt.ylabel(\"Err %\")\n",
    "\n",
    "x, k, f_val, grads, err = GDB(f, grad_f, x0, tolf, tolx, k_max)\n",
    "print(f\"Number of iterations with backtracking: {k} with the true optimum at: {x[-1]}\")\n",
    "\n",
    "#Plotting the error values\n",
    "plt.plot(err)"
   ]
  },
  {
   "cell_type": "markdown",
   "metadata": {},
   "source": [
    "**Results for: f(x1, x2) = 10(x1 − 1)2 + (x2 − 2)^2**\n"
   ]
  },
  {
   "cell_type": "code",
   "execution_count": 6,
   "metadata": {},
   "outputs": [
    {
     "name": "stdout",
     "output_type": "stream",
     "text": [
      "Max iterations reached\n",
      "Number of iterations: 10000 with the true optimum at: [0. 2.]\n",
      "Number of iterations: 377 with the true optimum at: [1.         1.99951755]\n",
      "Number of iterations: 2647 with the true optimum at: [1.         1.99501491]\n",
      "Number of iterations with backtracking: 78 with the true optimum at: [1.         1.99993447]\n"
     ]
    },
    {
     "data": {
      "image/png": "[encoded data removed]",
      "text/plain": [
       "<Figure size 640x480 with 1 Axes>"
      ]
     },
     "metadata": {},
     "output_type": "display_data"
    }
   ],
   "source": [
    "def f(x):\n",
    "    x1 = x[0]\n",
    "    x2 = x[1]\n",
    "    return 10*(x1-1)**2 + (x2-2)**2\n",
    "\n",
    "def grad_f(x):\n",
    "    x1 = x[0]\n",
    "    x2 = x[1]\n",
    "    \n",
    "    grad_x1 = 20 * (x1 - 1) \n",
    "    grad_x2 = 2 * (x2 - 2)\n",
    "    \n",
    "    return np.array([grad_x1, grad_x2])\n",
    "\n",
    "tolx = 1e-5\n",
    "tolf = 1e-5\n",
    "k_max = 10000\n",
    "x0 = np.array([0,1])\n",
    "\n",
    "for alpha in [0.1, 0.01, 0.001]:\n",
    "    x, k, f_val, grads, err = GD(f, grad_f, x0, tolf, tolx, k_max, alpha)\n",
    "    print(f\"Number of iterations: {k} with the true optimum at: {x[-1]}\")\n",
    "#Plotting the error values;\n",
    "plt.figure(1)\n",
    "plt.plot(err);\n",
    "plt.xlabel(\"K iterations\")\n",
    "plt.ylabel(\"Err %\")\n",
    "\n",
    "x, k, f_val, grads, err = GDB(f, grad_f, x0, tolf, tolx, k_max)\n",
    "print(f\"Number of iterations with backtracking: {k} with the true optimum at: {x[-1]}\")\n",
    "#Plotting the error values;\n",
    "plt.plot(err);\n",
    "\n"
   ]
  },
  {
   "cell_type": "markdown",
   "metadata": {},
   "source": [
    "**Results for: f(x) = (1/2)||Ax − b||^2**"
   ]
  },
  {
   "cell_type": "code",
   "execution_count": 7,
   "metadata": {},
   "outputs": [
    {
     "name": "stdout",
     "output_type": "stream",
     "text": [
      "(20, 20) (20,)\n",
      "0.0\n",
      "[0. 0. 0. 0. 0. 0. 0. 0. 0. 0. 0. 0. 0. 0. 0. 0. 0. 0. 0. 0.]\n",
      "Max iterations reached\n",
      "for alpha = 0.1 the iterations needed to converge is 100000 with final xk = [ -792.12100903  -807.9129843   -825.35153071  -844.68545346\n",
      "  -866.21742841  -890.31989179  -917.45705738  -948.2160695\n",
      "  -983.35214776 -1023.85583241 -1071.05641185 -1126.78713335\n",
      " -1193.66135003 -1275.56041469 -1378.55768235 -1512.83280725\n",
      " -1697.14848312 -1971.30898231 -2441.55439213 -3612.79237954]\n",
      "Max iterations reached\n",
      "for alpha = 0.01 the iterations needed to converge is 100000 with final xk = [0.99930659 0.99962984 0.99990696 1.00013084 1.00029482 1.0003933\n",
      " 1.00042269 1.00038277 1.00027846 1.00012215 0.99993643 0.99975662\n",
      " 0.99963158 0.99961889 0.99976572 1.00005903 1.0003273  1.00017112\n",
      " 0.9998445  1.00001333]\n",
      "Max iterations reached\n",
      "for alpha = 0.001 the iterations needed to converge is 100000 with final xk = [0.99697196 0.9979673  0.99889739 0.99974213 1.00047876 1.00108207\n",
      " 1.00152507 1.00178024 1.00182206 1.00163135 1.00120261 1.00055607\n",
      " 0.99975652 0.99894105 0.99835349 0.99836401 0.99937259 1.00118446\n",
      " 1.00034631 0.99988855]\n",
      "Max iterations reached\n",
      "for alpha = 0.0001 the iterations needed to converge is 100000 with final xk = [0.98649576 0.9892985  0.99210424 0.99488154 0.99759017 1.00017901\n",
      " 1.00258356 1.00472306 1.00649734 1.00778387 1.00843611 1.00828559\n",
      " 1.00715352 1.00488489 1.00143541 0.99708292 0.99293576 0.99211293\n",
      " 1.00170243 1.00099082]\n"
     ]
    },
    {
     "ename": "TypeError",
     "evalue": "f() missing 2 required positional arguments: 'A' and 'b'",
     "output_type": "error",
     "traceback": [
      "\u001b[1;31m---------------------------------------------------------------------------\u001b[0m",
      "\u001b[1;31mTypeError\u001b[0m                                 Traceback (most recent call last)",
      "\u001b[1;32m~\\AppData\\Local\\Temp\\ipykernel_14588\\33255850.py\u001b[0m in \u001b[0;36m<module>\u001b[1;34m\u001b[0m\n\u001b[0;32m    145\u001b[0m \u001b[1;33m\u001b[0m\u001b[0m\n\u001b[0;32m    146\u001b[0m \u001b[0mplt\u001b[0m\u001b[1;33m.\u001b[0m\u001b[0mtitle\u001b[0m\u001b[1;33m(\u001b[0m\u001b[1;34m\"error for function: f(x1, x2) = 10 * (x1 − 1)**2 + (x2 − 2)**2\"\u001b[0m\u001b[1;33m)\u001b[0m\u001b[1;33m\u001b[0m\u001b[1;33m\u001b[0m\u001b[0m\n\u001b[1;32m--> 147\u001b[1;33m \u001b[0mx_history\u001b[0m\u001b[1;33m,\u001b[0m \u001b[0mk\u001b[0m\u001b[1;33m,\u001b[0m \u001b[0mf_val_history\u001b[0m\u001b[1;33m,\u001b[0m \u001b[0mgrad_history\u001b[0m\u001b[1;33m,\u001b[0m \u001b[0merr_history\u001b[0m \u001b[1;33m=\u001b[0m \u001b[0mGDT\u001b[0m\u001b[1;33m(\u001b[0m\u001b[0mf\u001b[0m\u001b[1;33m,\u001b[0m \u001b[0mgrad_f\u001b[0m\u001b[1;33m,\u001b[0m \u001b[0mx0\u001b[0m\u001b[1;33m,\u001b[0m \u001b[0mtolf\u001b[0m\u001b[1;33m,\u001b[0m \u001b[0mtolx\u001b[0m\u001b[1;33m,\u001b[0m \u001b[0mk_max\u001b[0m\u001b[1;33m)\u001b[0m\u001b[1;33m\u001b[0m\u001b[1;33m\u001b[0m\u001b[0m\n\u001b[0m\u001b[0;32m    148\u001b[0m \u001b[0mprint\u001b[0m\u001b[1;33m(\u001b[0m\u001b[1;34mf\"for apha adjustable the iterations needed to converge is {k} with final xk = {x_history[-1]}\"\u001b[0m\u001b[1;33m)\u001b[0m\u001b[1;33m\u001b[0m\u001b[1;33m\u001b[0m\u001b[0m\n\u001b[0;32m    149\u001b[0m \u001b[0mplt\u001b[0m\u001b[1;33m.\u001b[0m\u001b[0mlegend\u001b[0m\u001b[1;33m(\u001b[0m\u001b[1;34mf\"alpha with backtracking\"\u001b[0m\u001b[1;33m)\u001b[0m\u001b[1;33m\u001b[0m\u001b[1;33m\u001b[0m\u001b[0m\n",
      "\u001b[1;32m~\\AppData\\Local\\Temp\\ipykernel_14588\\33255850.py\u001b[0m in \u001b[0;36mGDT\u001b[1;34m(f, grad_f, x0, tolf, tolx, k_max)\u001b[0m\n\u001b[0;32m    103\u001b[0m     \u001b[1;31m# Lists for tracking intermediate values\u001b[0m\u001b[1;33m\u001b[0m\u001b[1;33m\u001b[0m\u001b[0m\n\u001b[0;32m    104\u001b[0m     \u001b[0mx_history\u001b[0m \u001b[1;33m=\u001b[0m \u001b[1;33m[\u001b[0m\u001b[0mx_k\u001b[0m\u001b[1;33m]\u001b[0m\u001b[1;33m\u001b[0m\u001b[1;33m\u001b[0m\u001b[0m\n\u001b[1;32m--> 105\u001b[1;33m     \u001b[0mf_val_history\u001b[0m \u001b[1;33m=\u001b[0m \u001b[1;33m[\u001b[0m\u001b[0mf\u001b[0m\u001b[1;33m(\u001b[0m\u001b[0mx_k\u001b[0m\u001b[1;33m)\u001b[0m\u001b[1;33m]\u001b[0m\u001b[1;33m\u001b[0m\u001b[1;33m\u001b[0m\u001b[0m\n\u001b[0m\u001b[0;32m    106\u001b[0m     \u001b[0mgrad_history\u001b[0m \u001b[1;33m=\u001b[0m \u001b[1;33m[\u001b[0m\u001b[0mgrad_f\u001b[0m\u001b[1;33m(\u001b[0m\u001b[0mx_k\u001b[0m\u001b[1;33m)\u001b[0m\u001b[1;33m]\u001b[0m\u001b[1;33m\u001b[0m\u001b[1;33m\u001b[0m\u001b[0m\n\u001b[0;32m    107\u001b[0m     \u001b[0merr_history\u001b[0m \u001b[1;33m=\u001b[0m \u001b[1;33m[\u001b[0m\u001b[0mnp\u001b[0m\u001b[1;33m.\u001b[0m\u001b[0mlinalg\u001b[0m\u001b[1;33m.\u001b[0m\u001b[0mnorm\u001b[0m\u001b[1;33m(\u001b[0m\u001b[0mgrad_f\u001b[0m\u001b[1;33m(\u001b[0m\u001b[0mx_k\u001b[0m\u001b[1;33m)\u001b[0m\u001b[1;33m,\u001b[0m \u001b[1;36m2\u001b[0m\u001b[1;33m)\u001b[0m\u001b[1;33m]\u001b[0m\u001b[1;33m\u001b[0m\u001b[1;33m\u001b[0m\u001b[0m\n",
      "\u001b[1;31mTypeError\u001b[0m: f() missing 2 required positional arguments: 'A' and 'b'"
     ]
    },
    {
     "data": {
      "image/png": "[encoded data removed]",
      "text/plain": [
       "<Figure size 640x480 with 1 Axes>"
      ]
     },
     "metadata": {},
     "output_type": "display_data"
    }
   ],
   "source": [
    "# 2 - f(x1, x2) = 10(x1 − 1)2 + (x2 − 2)2\n",
    "\n",
    "\n",
    "# x is not a number anymore, x is an umpy array of shape(2,)\n",
    "\n",
    "n = 20\n",
    "v = np.linspace(0, 1, n)\n",
    "A = np.vander(v, n)\n",
    "x_true = np.ones(n)\n",
    "b = A @ x_true\n",
    "print(A.shape, b.shape)\n",
    "\n",
    "def f(x, A, b):\n",
    "    \"\"\"\n",
    "    The function we want to minimize, which is 1/2 * ||Ax - b||^2.\n",
    "    \"\"\"\n",
    "    return 0.5 * np.linalg.norm(A.dot(x) - b, 2)**2\n",
    "\n",
    "def grad_f(x, A, b):\n",
    "    \"\"\"\n",
    "    The gradient of f(x), which is A.T(Ax - b).\n",
    "    \"\"\"\n",
    "    return A.T.dot(A.dot(x) - b)\n",
    "\n",
    "# User's original attempt that caused the error\n",
    "# print(f(x, A, b))  # This line causes an error because the dimensions do not match.\n",
    "# print(grad_f(x, A, b))  # This line will also cause an error for the same reason.\n",
    "\n",
    "# Correct approach\n",
    "# We need to make sure that x has the same number of elements as there are columns in A for the dot product to work.\n",
    "\n",
    "# Let's check if the functions work now with the correct shape for x\n",
    "f_value = f(x_true, A, b)\n",
    "grad_f_value = grad_f(x_true, A, b)\n",
    "\n",
    "\n",
    "x = np.ones(A.shape[1])\n",
    "print(f(x, A, b))\n",
    "print(grad_f(x, A, b))\n",
    "\n",
    "tolx = 1e-5\n",
    "tolf = 1e-5\n",
    "k_max = 100000\n",
    "x0 = np.zeros(A.shape[1])\n",
    "x_grad = []\n",
    "\n",
    "# TASK modify GB AND BACKTRACK to make it work with the case where x has shape (2,)\n",
    "# Difference: absolute value - norm 2\n",
    "\n",
    "\n",
    "\n",
    "def GD(f, grad_f, x0, tolf, tolx, k_max, alpha, clip_threshold=1e5):\n",
    "    x_k = np.array(x0, dtype=float)  # Ensure x0 is a NumPy array for vector operations\n",
    "    k = 0\n",
    "    prev_x = np.copy(x_k)\n",
    "    \n",
    "    # Lists for tracking intermediate values\n",
    "    x_history = [x_k]\n",
    "    f_val_history = [f(x_k, A, b)]\n",
    "    grad_history = [grad_f(x_k, A, b)]\n",
    "    err_history = [np.linalg.norm(grad_f(x_k, A, b), 2)]\n",
    "    \n",
    "    while k < k_max:\n",
    "\n",
    "        grad_func = grad_f(x_k, A, b)\n",
    "        \n",
    "        # Gradient clipping\n",
    "        grad_norm = np.linalg.norm(grad_func)\n",
    "        if grad_norm > clip_threshold:\n",
    "            grad_func = grad_func / grad_norm * clip_threshold\n",
    "        \n",
    "        prev_x = np.copy(x_k)\n",
    "        x_k = x_k - alpha * grad_func\n",
    "\n",
    "        \n",
    "        # Store intermediate values\n",
    "        x_history.append(x_k)\n",
    "        f_val_history.append(f(x_k, A, b))\n",
    "        grad_history.append(grad_func)\n",
    "        err_history.append(np.linalg.norm(grad_func, 2))\n",
    "        \n",
    "        # Check stopping conditions based on tolerance\n",
    "        if np.linalg.norm(grad_func, 2) < tolf * np.linalg.norm(x0, 2):\n",
    "            break\n",
    "        if np.linalg.norm(x_k - prev_x, 2) < tolx * np.linalg.norm(x0, 2):\n",
    "            break\n",
    "        \n",
    "        k += 1\n",
    "    \n",
    "    # Final reporting\n",
    "    if k == k_max:\n",
    "        print(\"Max iterations reached\")\n",
    "    \n",
    "    return x_history, k, f_val_history, grad_history, err_history\n",
    "\n",
    "\n",
    "\n",
    "def GDT(f, grad_f, x0, tolf, tolx, k_max):\n",
    "    x_k = np.array(x0, dtype=float)  # Ensure x0 is a NumPy array for vector operations\n",
    "    k = 0\n",
    "    prev_x = np.copy(x_k)\n",
    "    \n",
    "    # Lists for tracking intermediate values\n",
    "    x_history = [x_k]\n",
    "    f_val_history = [f(x_k)]\n",
    "    grad_history = [grad_f(x_k)]\n",
    "    err_history = [np.linalg.norm(grad_f(x_k), 2)]\n",
    "    \n",
    "    while k < k_max:\n",
    "        alpha = backtracking(f, grad_f, x_k)\n",
    "        grad_func = grad_f(x_k)\n",
    "        prev_x = np.copy(x_k)\n",
    "        x_k = x_k - alpha * grad_func\n",
    "        \n",
    "        # Store intermediate values\n",
    "        x_history.append(x_k)\n",
    "        f_val_history.append(f(x_k))\n",
    "        grad_history.append(grad_func)\n",
    "        err_history.append(np.linalg.norm(grad_func, 2))\n",
    "        \n",
    "        # Check stopping conditions based on tolerance\n",
    "        if np.linalg.norm(grad_func, 2) < tolf * np.linalg.norm(x0, 2):\n",
    "            break\n",
    "        if np.linalg.norm(x_k - prev_x, 2) < tolx * np.linalg.norm(x0, 2):\n",
    "            break\n",
    "        \n",
    "        k += 1\n",
    "    \n",
    "    # Final reporting\n",
    "    if k == k_max:\n",
    "        print(\"Max iterations reached\")\n",
    "    \n",
    "    return x_history, k, f_val_history, grad_history, err_history\n",
    "\n",
    "\n",
    "\n",
    "\n",
    "\n",
    "\n",
    "for alpha in [0.1, 0.01, 0.001, 0.0001]:\n",
    "    x_history, k, f_val_history, grad_history, err_history = GD(f, grad_f, x0, tolf, tolx, k_max, alpha)\n",
    "    print(f\"for alpha = {alpha} the iterations needed to converge is {k} with final xk = {x_history[-1]}\")\n",
    "    plt.plot(err_history)\n",
    "    plt.legend(f\"alpha ={alpha}\")\n",
    "\n",
    "plt.title(\"error for function: f(x1, x2) = 10 * (x1 − 1)**2 + (x2 − 2)**2\")\n",
    "x_history, k, f_val_history, grad_history, err_history = GDT(f, grad_f, x0, tolf, tolx, k_max)\n",
    "print(f\"for apha adjustable the iterations needed to converge is {k} with final xk = {x_history[-1]}\")\n",
    "plt.legend(f\"alpha with backtracking\")\n",
    "plt.title(\"error for function: f(x1, x2) = 10 * (x1 − 1)**2 + (x2 − 2)**2\")\n",
    "plt.plot(err_history)"
   ]
  },
  {
   "cell_type": "markdown",
   "metadata": {},
   "source": [
    "**Results for: f(x) = (1/2)||Ax − b||^2 + (λ/2)||x||^2**"
   ]
  },
  {
   "cell_type": "code",
   "execution_count": null,
   "metadata": {},
   "outputs": [],
   "source": []
  },
  {
   "cell_type": "markdown",
   "metadata": {},
   "source": [
    "**Results for: f(x) = x^4 + x^3 − 2x^2 − 2x**"
   ]
  },
  {
   "cell_type": "code",
   "execution_count": null,
   "metadata": {},
   "outputs": [],
   "source": []
  },
  {
   "cell_type": "markdown",
   "metadata": {},
   "source": [
    "**OPTIMIZATION VIA STOCHASTIC GRADIENT DESCENT**"
   ]
  },
  {
   "cell_type": "code",
   "execution_count": null,
   "metadata": {},
   "outputs": [],
   "source": []
  }
 ],
 "metadata": {
  "kernelspec": {
   "display_name": "Python 3 (ipykernel)",
   "language": "python",
   "name": "python3"
  },
  "language_info": {
   "codemirror_mode": {
    "name": "ipython",
    "version": 3
   },
   "file_extension": ".py",
   "mimetype": "text/x-python",
   "name": "python",
   "nbconvert_exporter": "python",
   "pygments_lexer": "ipython3",
   "version": "3.9.13"
  }
 },
 "nbformat": 4,
 "nbformat_minor": 4
}
